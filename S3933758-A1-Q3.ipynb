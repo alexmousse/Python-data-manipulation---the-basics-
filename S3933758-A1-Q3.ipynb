{
 "cells": [
  {
   "cell_type": "markdown",
   "id": "41a1c3ab",
   "metadata": {},
   "source": [
    "# A1 Problem 3 - Aggregation Exercise"
   ]
  },
  {
   "cell_type": "markdown",
   "id": "e74ffce2",
   "metadata": {},
   "source": [
    "Now that we have several of our dataframes properly sorted, our next goal is to generate some useful information based on the scores. Specifically, we want to Load our Comments-Sorted.feather and Questions-Sorted.feather files, and aggregate the scores based on the 'PostId' and 'ParentId' columns respectively. The key idea is to determine the total score for Answers and Comments for a particular Question (Parent). We will then save these new dataframes for the next exercise and write out the top 10 results for the two new dataframes to prove that we got the right answer. Hint, we will need to resort the two dataframes again after the aggregation using the sort function from the previous exercise using the new aggregate column we create."
   ]
  },
  {
   "cell_type": "markdown",
   "id": "aadf950e",
   "metadata": {},
   "source": [
    "### Read a feather file and return a dataframe. This is already done for you. You just have to call it from main to convert a feather file into a dataframe."
   ]
  },
  {
   "cell_type": "code",
   "execution_count": 1,
   "id": "c8114d47",
   "metadata": {},
   "outputs": [],
   "source": [
    "import pyarrow.feather as feather\n",
    "import pandas as pd"
   ]
  },
  {
   "cell_type": "code",
   "execution_count": 2,
   "id": "5675ff81",
   "metadata": {},
   "outputs": [],
   "source": [
    "def arrow_to_df(input_file_name):\n",
    "    df = feather.read_feather(input_file_name)\n",
    "    return df"
   ]
  },
  {
   "cell_type": "markdown",
   "id": "08b68be9",
   "metadata": {},
   "source": [
    "### Write a feather file using a dataframe. This is done for you, you just need to call it."
   ]
  },
  {
   "cell_type": "code",
   "execution_count": 3,
   "id": "c154baf7",
   "metadata": {},
   "outputs": [],
   "source": [
    "def df_to_arrow(output_file_name, df):\n",
    "    feather.write_feather(df, output_file_name, compression='zstd')\n",
    "    return"
   ]
  },
  {
   "cell_type": "markdown",
   "id": "80bd4cc3",
   "metadata": {},
   "source": [
    "### This function will write the top ten items from a dataframe to a file. You simply need to pass in a dataframe, and a file name to write, like 'out.txt'."
   ]
  },
  {
   "cell_type": "code",
   "execution_count": 4,
   "id": "e7879fff",
   "metadata": {},
   "outputs": [],
   "source": [
    "def write_top10_to_file(df,out_file):\n",
    "    with open(out_file,'w') as f:\n",
    "        f.write(df.head(10).to_string())\n",
    "    return"
   ]
  },
  {
   "cell_type": "markdown",
   "id": "8f46f452",
   "metadata": {},
   "source": [
    "###  This is the same sort function from Q2. You need to copy your solution here."
   ]
  },
  {
   "cell_type": "code",
   "execution_count": 5,
   "id": "550e1355",
   "metadata": {},
   "outputs": [],
   "source": [
    "def sort_df (df,key):\n",
    "    # TODO\n",
    "    agg_sort_df = pd.DataFrame.sort_values(self = df, by = key, ascending= False, ignore_index= True)\n",
    "    return agg_sort_df"
   ]
  },
  {
   "cell_type": "markdown",
   "id": "f0f34cb8",
   "metadata": {},
   "source": [
    "### The key idea of this function is to take a dataframe, aggregate based on the Score column, and in the process clean up the indexing (as there are now less rows). Finally you will want to sort the current dataframe using to sort function we created in the last exercise before returning the new dataframe."
   ]
  },
  {
   "cell_type": "code",
   "execution_count": 6,
   "id": "11ecb974",
   "metadata": {},
   "outputs": [],
   "source": [
    "def aggregate_scores(df, parent_id_name):\n",
    "    # TODO\n",
    "    agg_dfs = df.groupby([parent_id_name]).agg({parent_id_name: 'last', 'Score': 'sum'})\n",
    "    return agg_dfs"
   ]
  },
  {
   "cell_type": "markdown",
   "id": "a4cec5b7",
   "metadata": {},
   "source": [
    "### Main Loop -- Hint of a structure:\n",
    "* First read the Answers-Sorted.feather and Comments-Sorted.feather files into dataframes using the provided function.\n",
    "* Now get the aggregate_scores function working to generate a new dataframe containing answers or comments that combine scores based on the 'ParentId' or 'PostId' key, and return the newly sorted dataframe.\n",
    "* Now write out the two new dataframes -- Answers-Sum.feather and Comments-Sum.feather for later.\n",
    "* Finally, you need to call write_top10_to_file() for the the new dataframes. The output file name should be \"Answers-Sum-10.txt\" and Comments-Sum-10.txt\"  This will by our sanity check that you got the aggregate function correct. Make sure you use the output file names exactly as shown (case sensitive)."
   ]
  },
  {
   "cell_type": "code",
   "execution_count": 7,
   "id": "5341a6a2",
   "metadata": {},
   "outputs": [],
   "source": [
    "# Now we show the main wrapper that you should complete when\n",
    "# you finalise your assignment. A hint of the structure is above.\n",
    "def main():\n",
    "    # TODO\n",
    "    answers_sorted_df = arrow_to_df('Answers-Sorted.feather')\n",
    "    comment_sorted_df = arrow_to_df('Comments-Sorted.feather')\n",
    "    #call agg function \n",
    "    ans_agg_df = aggregate_scores(answers_sorted_df, 'ParentId')\n",
    "    comm_agg_df = aggregate_scores(comment_sorted_df, 'PostId')\n",
    "    #call sort function\n",
    "    ans_agg_sort_df = sort_df(ans_agg_df, 'Score')\n",
    "    comm_agg_sort_df = sort_df(comm_agg_df, 'Score')\n",
    "    #call write to feather function\n",
    "    ANS_sort = df_to_arrow('Answers-Sum.feather',ans_agg_sort_df)\n",
    "    COMM_sort = df_to_arrow('Comments-Sum.feather', comm_agg_sort_df)\n",
    "    #call write top 10 function\n",
    "    ANS_txt = write_top10_to_file(ans_agg_sort_df,'Answers-Sum-10.txt')\n",
    "    COMM_txt = write_top10_to_file(comm_agg_sort_df,'Comments-Sum-10.txt')\n",
    "    return"
   ]
  },
  {
   "cell_type": "code",
   "execution_count": 8,
   "id": "624faa3e",
   "metadata": {},
   "outputs": [
    {
     "name": "stdout",
     "output_type": "stream",
     "text": [
      "[INFO]: Script completed with no errors\n"
     ]
    }
   ],
   "source": [
    "# Here is the definition of the \"main\" loop execution function shown\n",
    "# in Lectorial 2\n",
    "if __name__ == '__main__':\n",
    "    main()\n",
    "    print ('[INFO]: Script completed with no errors')"
   ]
  }
 ],
 "metadata": {
  "kernelspec": {
   "display_name": "Python 3 (ipykernel)",
   "language": "python",
   "name": "python3"
  },
  "language_info": {
   "codemirror_mode": {
    "name": "ipython",
    "version": 3
   },
   "file_extension": ".py",
   "mimetype": "text/x-python",
   "name": "python",
   "nbconvert_exporter": "python",
   "pygments_lexer": "ipython3",
   "version": "3.8.5"
  }
 },
 "nbformat": 4,
 "nbformat_minor": 5
}
