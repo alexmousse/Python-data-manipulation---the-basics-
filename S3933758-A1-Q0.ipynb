{
 "cells": [
  {
   "cell_type": "markdown",
   "id": "f6f1d9b1",
   "metadata": {
    "pycharm": {
     "name": "#%% md\n"
    }
   },
   "source": [
    "# Environment setup"
   ]
  },
  {
   "cell_type": "markdown",
   "id": "ea3b4d72",
   "metadata": {
    "pycharm": {
     "name": "#%% md\n"
    }
   },
   "source": [
    "Let's make sure our environment is setup correctly and save a requirements.txt file to prove it."
   ]
  },
  {
   "cell_type": "code",
   "execution_count": 1,
   "id": "a268fdf7",
   "metadata": {
    "pycharm": {
     "name": "#%%\n"
    }
   },
   "outputs": [
    {
     "name": "stdout",
     "output_type": "stream",
     "text": [
      "3.8.5\n"
     ]
    }
   ],
   "source": [
    "# This should show python 3.8.x. If not, stop now \n",
    "# and get your environment right.\n",
    "\n",
    "from platform import python_version\n",
    "\n",
    "print(python_version())"
   ]
  },
  {
   "cell_type": "code",
   "execution_count": 2,
   "id": "ad0d4103",
   "metadata": {
    "pycharm": {
     "name": "#%%\n"
    }
   },
   "outputs": [
    {
     "name": "stdout",
     "output_type": "stream",
     "text": [
      "Assignment_1\n"
     ]
    }
   ],
   "source": [
    "import os\n",
    "\n",
    "print(os.environ['CONDA_DEFAULT_ENV'])"
   ]
  },
  {
   "cell_type": "code",
   "execution_count": 3,
   "id": "d1467070",
   "metadata": {
    "pycharm": {
     "name": "#%%\n"
    }
   },
   "outputs": [
    {
     "name": "stdout",
     "output_type": "stream",
     "text": [
      "numpy is installed.\n",
      "pandas is installed.\n",
      "pyarrow is installed.\n"
     ]
    }
   ],
   "source": [
    "# These should be the only libraries you need in your environment.\n",
    "# pandas, numpy, pyarrow\n",
    "\n",
    "# % pip install numpy pandas pyarrow\n",
    "\n",
    "import importlib.util\n",
    "\n",
    "package_names = ['numpy', 'pandas', 'pyarrow']\n",
    "for pkg in package_names:\n",
    "    spec = importlib.util.find_spec(pkg)\n",
    "    if spec is None:\n",
    "        print('{} is not installed.'.format(pkg))\n",
    "        print('Installing {}'.format(pkg))\n",
    "        !{sys.executable} -m pip install pkg\n",
    "    else:\n",
    "        print('{} is installed.'.format(pkg))"
   ]
  },
  {
   "cell_type": "code",
   "execution_count": 4,
   "id": "7aa6f606",
   "metadata": {
    "pycharm": {
     "name": "#%%\n"
    }
   },
   "outputs": [],
   "source": [
    "# This will be a silent operation. You will see no output.\n",
    "# Instead, the output is saved into a file called 'requirements.txt'\n",
    "# in your working directory, which you should submit with your\n",
    "# assignment to show that everything is OK.\n",
    "\n",
    "!pip freeze > requirements.txt"
   ]
  }
 ],
 "metadata": {
  "kernelspec": {
   "display_name": "Python 3 (ipykernel)",
   "language": "python",
   "name": "python3"
  },
  "language_info": {
   "codemirror_mode": {
    "name": "ipython",
    "version": 3
   },
   "file_extension": ".py",
   "mimetype": "text/x-python",
   "name": "python",
   "nbconvert_exporter": "python",
   "pygments_lexer": "ipython3",
   "version": "3.8.5"
  }
 },
 "nbformat": 4,
 "nbformat_minor": 5
}
